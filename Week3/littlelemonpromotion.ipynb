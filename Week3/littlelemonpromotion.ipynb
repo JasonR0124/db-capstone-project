{
 "cells": [
  {
   "cell_type": "code",
   "execution_count": 1,
   "id": "20ec0295-fb16-4af3-b46d-501afbffac83",
   "metadata": {},
   "outputs": [],
   "source": [
    "# Setting up the connection\n",
    "import mysql.connector as connector\n",
    "connection = connector.connect(user = \"Jason\", password = \"password\", db = \"littlelemondb\") \n",
    "cursor = connection.cursor()"
   ]
  },
  {
   "cell_type": "code",
   "execution_count": 2,
   "id": "6da09e25-65ab-4a82-aead-e30a6d1c36ec",
   "metadata": {},
   "outputs": [
    {
     "name": "stdout",
     "output_type": "stream",
     "text": [
      "[('bookings',), ('customers',), ('menu',), ('order_delivery_status',), ('orders',), ('ordersview',), ('staff_information',)]\n"
     ]
    }
   ],
   "source": [
    "# Testing the connection\n",
    "show_tables_query = \"SHOW tables\" \n",
    "cursor.execute(show_tables_query)\n",
    "result = cursor.fetchall()\n",
    "print(result)"
   ]
  },
  {
   "cell_type": "code",
   "execution_count": 3,
   "id": "a0fdc387-0b7b-4b6a-8a8a-b822f3191bb9",
   "metadata": {},
   "outputs": [
    {
     "name": "stdout",
     "output_type": "stream",
     "text": [
      "('Customer_Name', 'Contact_Number', 'Email', 'Order_Cost')\n",
      "('Adam Goldberg', '555-555-0987', 'AdamGold@email.com', Decimal('65.00'))\n",
      "('John Doe', '555-555-1234', 'JohnDoe@email.com', Decimal('75.00'))\n",
      "('Brian Kennedy', '555-555-9876', 'BKennedy@email.com', Decimal('83.00'))\n",
      "('Jane Smith', '555-555-8765', 'JaneSmith@email.com', Decimal('89.00'))\n",
      "('Nala Albertson', '555-555-0222', 'NAlbertson@email.com', Decimal('90.00'))\n",
      "('Stacy Fox', '555-555-0123', 'Sfox@email.com', Decimal('145.50'))\n"
     ]
    }
   ],
   "source": [
    "# Creating the promotion query, note due to my tables relations I have to JOIN twice, also I sum my orders with a temporary table\n",
    "promotion = \"\"\"\n",
    "WITH Sum_Table AS (\n",
    "SELECT SUM(Total_Cost) AS Order_Cost, Booking_ID\n",
    "FROM Orders\n",
    "GROUP BY Booking_ID\n",
    ")\n",
    "\n",
    "SELECT Customers.Customer_Name, Customers.Contact_Number, Customers.Email, Sum_Table.Order_Cost\n",
    "FROM Customers\n",
    "INNER JOIN Bookings ON Customers.Customer_ID = Bookings.Booking_ID\n",
    "INNER JOIN Sum_Table ON Bookings.Booking_ID = Sum_Table.Booking_ID\n",
    "WHERE Sum_Table.Order_Cost > 60\n",
    "ORDER BY Sum_Table.Order_Cost;\"\"\"\n",
    "cursor.execute(promotion)\n",
    "results = cursor.fetchall()\n",
    "print(cursor.column_names)\n",
    "for result in results:\n",
    "    print(result)"
   ]
  },
  {
   "cell_type": "code",
   "execution_count": null,
   "id": "b4ec2a6f-2e6b-4f91-8a45-5d1bf5174a9c",
   "metadata": {},
   "outputs": [],
   "source": []
  }
 ],
 "metadata": {
  "kernelspec": {
   "display_name": "Python 3 (ipykernel)",
   "language": "python",
   "name": "python3"
  },
  "language_info": {
   "codemirror_mode": {
    "name": "ipython",
    "version": 3
   },
   "file_extension": ".py",
   "mimetype": "text/x-python",
   "name": "python",
   "nbconvert_exporter": "python",
   "pygments_lexer": "ipython3",
   "version": "3.12.1"
  }
 },
 "nbformat": 4,
 "nbformat_minor": 5
}
